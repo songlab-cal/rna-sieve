{
 "cells": [
  {
   "cell_type": "code",
   "execution_count": 4,
   "id": "assisted-disclaimer",
   "metadata": {},
   "outputs": [
    {
     "name": "stdout",
     "output_type": "stream",
     "text": [
      "Collecting boto3\n",
      "  Downloading boto3-1.17.62-py2.py3-none-any.whl (131 kB)\n",
      "\u001b[K     |████████████████████████████████| 131 kB 10.3 MB/s eta 0:00:01\n",
      "\u001b[?25hCollecting jmespath<1.0.0,>=0.7.1\n",
      "  Downloading jmespath-0.10.0-py2.py3-none-any.whl (24 kB)\n",
      "Collecting botocore<1.21.0,>=1.20.62\n",
      "  Downloading botocore-1.20.62-py2.py3-none-any.whl (7.5 MB)\n",
      "\u001b[K     |████████████████████████████████| 7.5 MB 10.6 MB/s eta 0:00:01\n",
      "\u001b[?25hCollecting s3transfer<0.5.0,>=0.4.0\n",
      "  Downloading s3transfer-0.4.2-py2.py3-none-any.whl (79 kB)\n",
      "\u001b[K     |████████████████████████████████| 79 kB 9.2 MB/s  eta 0:00:01\n",
      "\u001b[?25hRequirement already satisfied: python-dateutil<3.0.0,>=2.1 in /usr/local/lib/python3.9/site-packages (from botocore<1.21.0,>=1.20.62->boto3) (2.8.1)\n",
      "Collecting urllib3<1.27,>=1.25.4\n",
      "  Downloading urllib3-1.26.4-py2.py3-none-any.whl (153 kB)\n",
      "\u001b[K     |████████████████████████████████| 153 kB 19.0 MB/s eta 0:00:01\n",
      "\u001b[?25hRequirement already satisfied: six>=1.5 in /usr/local/lib/python3.9/site-packages (from python-dateutil<3.0.0,>=2.1->botocore<1.21.0,>=1.20.62->boto3) (1.15.0)\n",
      "Installing collected packages: urllib3, jmespath, botocore, s3transfer, boto3\n",
      "Successfully installed boto3-1.17.62 botocore-1.20.62 jmespath-0.10.0 s3transfer-0.4.2 urllib3-1.26.4\n",
      "\u001b[33mWARNING: You are using pip version 21.0.1; however, version 21.1.1 is available.\n",
      "You should consider upgrading via the '/usr/local/opt/python@3.9/bin/python3.9 -m pip install --upgrade pip' command.\u001b[0m\n"
     ]
    }
   ],
   "source": [
    "# !pip3 install anndata\n",
    "!pip3 install boto3"
   ]
  },
  {
   "cell_type": "code",
   "execution_count": 11,
   "id": "quarterly-reunion",
   "metadata": {},
   "outputs": [],
   "source": [
    "import anndata\n",
    "import boto3\n",
    "from os import path"
   ]
  },
  {
   "cell_type": "code",
   "execution_count": 12,
   "id": "floating-museum",
   "metadata": {},
   "outputs": [],
   "source": [
    "BUCKET_NAME = 'czb-tabula-muris-senis'\n",
    "BULK_OBJECT_KEY = 'Bulk/anndata/190329_maca_bulk.h5ad'\n",
    "FACS_OBJECT_KEY = 'Data-objects/tabula-muris-senis-facs-official-raw-obj.h5ad'\n",
    "\n",
    "LOCAL_BULK_PATH = '/tmp/tabula_bulk_data.h5ad'\n",
    "LOCAL_FACS_PATH = '/tmp/tabula_facs_data.h5ad'"
   ]
  },
  {
   "cell_type": "code",
   "execution_count": 15,
   "id": "introductory-hotel",
   "metadata": {},
   "outputs": [],
   "source": [
    "s3 = boto3.resource('s3')\n",
    "\n",
    "if not path.exists(LOCAL_BULK_PATH):\n",
    "    s3.Bucket(BUCKET_NAME).download_file(BULK_OBJECT_KEY, LOCAL_BULK_PATH)\n",
    "\n",
    "if not path.exists(LOCAL_FACS_PATH):\n",
    "    s3.Bucket(BUCKET_NAME).download_file(FACS_OBJECT_KEY, LOCAL_FACS_PATH)"
   ]
  },
  {
   "cell_type": "code",
   "execution_count": 21,
   "id": "separate-machine",
   "metadata": {},
   "outputs": [],
   "source": [
    "bulk_data = anndata.read_h5ad(LOCAL_BULK_PATH)\n",
    "sc_data = anndata.read_h5ad(LOCAL_FACS_PATH)"
   ]
  },
  {
   "cell_type": "code",
   "execution_count": 22,
   "id": "artificial-child",
   "metadata": {},
   "outputs": [],
   "source": [
    "# Only look at samples from male mice to minimize confounding\n",
    "male_ind = sc_data.obs.index[sc_data.obs['sex'] == 'male']\n",
    "male_data = sc_data[male_ind, :]\n",
    "\n",
    "male_ind_bulk = bulk_data.obs.index[bulk_data.obs['Sex'] == 'm']\n",
    "male_data_bulk = bulk_data[male_ind_bulk, :]"
   ]
  },
  {
   "cell_type": "code",
   "execution_count": 23,
   "id": "cooperative-twenty",
   "metadata": {},
   "outputs": [],
   "source": [
    "# only retain genes which are present in both bulk and sc data sets\n",
    "joint_indices = sc_data.var.index.intersection(bulk_data.var.index)\n",
    "male_joint_data = male_data[:,joint_indices]\n",
    "male_joint_data_bulk = male_data_bulk[:,joint_indices]"
   ]
  },
  {
   "cell_type": "code",
   "execution_count": 26,
   "id": "refined-motorcycle",
   "metadata": {},
   "outputs": [],
   "source": [
    "# If desired, clear the original data to open up some space\n",
    "# import gc\n",
    "# sc_data = None\n",
    "# bulk_data = None\n",
    "# gc.collect()"
   ]
  },
  {
   "cell_type": "code",
   "execution_count": 25,
   "id": "thousand-demographic",
   "metadata": {},
   "outputs": [],
   "source": [
    "# Get data corresponding to limb muscle samples\n",
    "muscle_ind = male_joint_data.obs.index[male_joint_data.obs['tissue'] == 'Limb_Muscle']\n",
    "muscle_subset = male_joint_data[muscle_ind, :]\n",
    "\n",
    "muscle_ind_bulk = male_joint_data_bulk.obs.index[male_joint_data_bulk.obs['Organ'] == 'Limb_Muscle']\n",
    "muscle_subset_bulk = male_joint_data_bulk[muscle_ind_bulk, :]"
   ]
  },
  {
   "cell_type": "code",
   "execution_count": 27,
   "id": "terminal-salad",
   "metadata": {},
   "outputs": [],
   "source": [
    "import sys\n",
    "sys.path.append('../')"
   ]
  },
  {
   "cell_type": "code",
   "execution_count": 28,
   "id": "entitled-device",
   "metadata": {},
   "outputs": [],
   "source": [
    "MUSCLE_BULK_PATH = '../example_data/muscle_subset_bulk.h5ad'\n",
    "MUSCLE_FACS_PATH = '../example_data/muscle_subset.h5ad'"
   ]
  },
  {
   "cell_type": "code",
   "execution_count": 30,
   "id": "ranging-landscape",
   "metadata": {},
   "outputs": [],
   "source": [
    "if not path.exists(MUSCLE_BULK_PATH):\n",
    "    muscle_subset_bulk.write(MUSCLE_BULK_PATH)\n",
    "if not path.exists(MUSCLE_FACS_PATH):\n",
    "    muscle_subset.write(MUSCLE_FACS_PATH)"
   ]
  }
 ],
 "metadata": {
  "kernelspec": {
   "display_name": "Python 3",
   "language": "python",
   "name": "python3"
  },
  "language_info": {
   "codemirror_mode": {
    "name": "ipython",
    "version": 3
   },
   "file_extension": ".py",
   "mimetype": "text/x-python",
   "name": "python",
   "nbconvert_exporter": "python",
   "pygments_lexer": "ipython3",
   "version": "3.9.1"
  }
 },
 "nbformat": 4,
 "nbformat_minor": 5
}

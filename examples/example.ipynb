{
 "cells": [
  {
   "cell_type": "code",
   "execution_count": 1,
   "metadata": {},
   "outputs": [],
   "source": [
    "%load_ext autoreload\n",
    "%autoreload 2"
   ]
  },
  {
   "cell_type": "code",
   "execution_count": 2,
   "metadata": {},
   "outputs": [],
   "source": [
    "import sys\n",
    "sys.path.append('../')"
   ]
  },
  {
   "cell_type": "code",
   "execution_count": 3,
   "metadata": {},
   "outputs": [],
   "source": [
    "from collections import defaultdict\n",
    "import numpy as np\n",
    "import pandas as pd\n",
    "import anndata\n",
    "from rnasieve.preprocessing import model_from_raw_counts"
   ]
  },
  {
   "cell_type": "code",
   "execution_count": 4,
   "metadata": {},
   "outputs": [
    {
     "name": "stdout",
     "output_type": "stream",
     "text": [
      "Requirement already satisfied: gdown in /usr/local/lib/python3.9/site-packages (3.13.0)\n",
      "Requirement already satisfied: tqdm in /usr/local/lib/python3.9/site-packages (from gdown) (4.60.0)\n",
      "Requirement already satisfied: six in /usr/local/lib/python3.9/site-packages (from gdown) (1.15.0)\n",
      "Requirement already satisfied: filelock in /usr/local/lib/python3.9/site-packages (from gdown) (3.0.12)\n",
      "Requirement already satisfied: requests[socks]>=2.12.0 in /usr/local/lib/python3.9/site-packages (from gdown) (2.25.1)\n",
      "Requirement already satisfied: idna<3,>=2.5 in /usr/local/lib/python3.9/site-packages (from requests[socks]>=2.12.0->gdown) (2.10)\n",
      "Requirement already satisfied: chardet<5,>=3.0.2 in /usr/local/lib/python3.9/site-packages (from requests[socks]>=2.12.0->gdown) (4.0.0)\n",
      "Requirement already satisfied: urllib3<1.27,>=1.21.1 in /usr/local/lib/python3.9/site-packages (from requests[socks]>=2.12.0->gdown) (1.26.4)\n",
      "Requirement already satisfied: certifi>=2017.4.17 in /usr/local/lib/python3.9/site-packages (from requests[socks]>=2.12.0->gdown) (2020.12.5)\n",
      "Requirement already satisfied: PySocks!=1.5.7,>=1.5.6 in /usr/local/lib/python3.9/site-packages (from requests[socks]>=2.12.0->gdown) (1.7.1)\n",
      "\u001b[33mWARNING: You are using pip version 21.1.1; however, version 21.2.3 is available.\n",
      "You should consider upgrading via the '/usr/local/opt/python@3.9/bin/python3.9 -m pip install --upgrade pip' command.\u001b[0m\n",
      "mkdir: ../example_data: File exists\n"
     ]
    },
    {
     "name": "stderr",
     "output_type": "stream",
     "text": [
      "Downloading...\n",
      "From: https://drive.google.com/uc?id=1U3u-mbM7dnSSINqipq-fdjrMr8Fk__rr\n",
      "To: /Users/jjhong/Documents/berkeley/Song_Lab_research/rnasieve/example_data/muscle_subset_bulk.h5ad\n",
      "4.01MB [00:00, 20.2MB/s]\n",
      "Downloading...\n",
      "From: https://drive.google.com/uc?id=1wKQ_XWnK2tDJNS709u707uXlj2pqnvfX\n",
      "To: /Users/jjhong/Documents/berkeley/Song_Lab_research/rnasieve/example_data/muscle_subset.h5ad\n",
      "28.8MB [00:01, 17.0MB/s]\n"
     ]
    },
    {
     "data": {
      "text/plain": [
       "'../example_data/muscle_subset.h5ad'"
      ]
     },
     "execution_count": 4,
     "metadata": {},
     "output_type": "execute_result"
    }
   ],
   "source": [
    "# Download example data. See example_data.ipynb to see how it was preprocessed.\n",
    "!pip3 install gdown\n",
    "import gdown\n",
    "\n",
    "!mkdir ../example_data\n",
    "gdown.download('https://drive.google.com/uc?id=1U3u-mbM7dnSSINqipq-fdjrMr8Fk__rr', '../example_data/muscle_subset_bulk.h5ad')\n",
    "gdown.download('https://drive.google.com/uc?id=1wKQ_XWnK2tDJNS709u707uXlj2pqnvfX', '../example_data/muscle_subset.h5ad')"
   ]
  },
  {
   "cell_type": "code",
   "execution_count": 5,
   "metadata": {
    "scrolled": true
   },
   "outputs": [
    {
     "name": "stdout",
     "output_type": "stream",
     "text": [
      "Aggregating by ontology class...\n",
      "Aggregating bulks by age group...\n",
      "Done!\n"
     ]
    }
   ],
   "source": [
    "# Example raw count prep\n",
    "subset_bulk = anndata.read_h5ad('../example_data/muscle_subset_bulk.h5ad')\n",
    "subset = anndata.read_h5ad('../example_data/muscle_subset.h5ad')\n",
    "\n",
    "# Raw counts prep\n",
    "print('Aggregating by ontology class...')\n",
    "counts_by_onto_class = {}\n",
    "for i in range(len(subset)):\n",
    "    sc = subset[i]\n",
    "    if len(sc.obs['cell_ontology_class']) == 0:\n",
    "        continue\n",
    "    cell_onto_class = sc.obs['cell_ontology_class'][0]\n",
    "    if cell_onto_class not in counts_by_onto_class:\n",
    "        counts_by_onto_class[cell_onto_class] = np.empty((sc.X.shape[1], 0), dtype=np.float32)\n",
    "    counts_by_onto_class[cell_onto_class] = np.hstack(\n",
    "        (counts_by_onto_class[cell_onto_class], sc.X.toarray().reshape(-1, 1)))\n",
    "    \n",
    "# Bulk prep\n",
    "print('Aggregating bulks by age group...')\n",
    "G = subset_bulk.n_vars\n",
    "bulk_by_age = defaultdict(list)\n",
    "for i in range(len(subset_bulk)):\n",
    "    bulk = subset_bulk[i]\n",
    "    if len(bulk.obs['Age']) == 0:\n",
    "        continue\n",
    "    age = bulk.obs['Age'][0]\n",
    "    bulk_by_age[age].append(bulk.X.toarray().reshape(-1, 1))\n",
    "\n",
    "bulk_labels = []\n",
    "psis = np.empty((G, 0), dtype=np.float32)\n",
    "for age in sorted(bulk_by_age.keys()):\n",
    "    bulks = bulk_by_age[age]\n",
    "    for i in range(len(bulks)):\n",
    "        bulk_labels.append(\"{} months, subject {}\".format(age, i))\n",
    "        psis = np.hstack((psis, bulks[i]))\n",
    "        \n",
    "print('Done!')"
   ]
  },
  {
   "cell_type": "code",
   "execution_count": 6,
   "metadata": {},
   "outputs": [],
   "source": [
    "model, cleaned_psis = model_from_raw_counts(counts_by_onto_class, psis[:, :2])"
   ]
  },
  {
   "cell_type": "code",
   "execution_count": 7,
   "metadata": {
    "scrolled": true
   },
   "outputs": [
    {
     "data": {
      "text/html": [
       "<div>\n",
       "<style scoped>\n",
       "    .dataframe tbody tr th:only-of-type {\n",
       "        vertical-align: middle;\n",
       "    }\n",
       "\n",
       "    .dataframe tbody tr th {\n",
       "        vertical-align: top;\n",
       "    }\n",
       "\n",
       "    .dataframe thead th {\n",
       "        text-align: right;\n",
       "    }\n",
       "</style>\n",
       "<table border=\"1\" class=\"dataframe\">\n",
       "  <thead>\n",
       "    <tr style=\"text-align: right;\">\n",
       "      <th></th>\n",
       "      <th>B cell</th>\n",
       "      <th>T cell</th>\n",
       "      <th>endothelial cell</th>\n",
       "      <th>macrophage</th>\n",
       "      <th>mesenchymal stem cell</th>\n",
       "      <th>skeletal muscle satellite cell</th>\n",
       "    </tr>\n",
       "  </thead>\n",
       "  <tbody>\n",
       "    <tr>\n",
       "      <th>Bulk 0</th>\n",
       "      <td>0.027960</td>\n",
       "      <td>0.0</td>\n",
       "      <td>0.149957</td>\n",
       "      <td>0.243403</td>\n",
       "      <td>0.146383</td>\n",
       "      <td>0.432296</td>\n",
       "    </tr>\n",
       "    <tr>\n",
       "      <th>Bulk 1</th>\n",
       "      <td>0.037862</td>\n",
       "      <td>0.0</td>\n",
       "      <td>0.141354</td>\n",
       "      <td>0.286549</td>\n",
       "      <td>0.219244</td>\n",
       "      <td>0.314990</td>\n",
       "    </tr>\n",
       "  </tbody>\n",
       "</table>\n",
       "</div>"
      ],
      "text/plain": [
       "          B cell  T cell  endothelial cell  macrophage  mesenchymal stem cell  \\\n",
       "Bulk 0  0.027960     0.0          0.149957    0.243403               0.146383   \n",
       "Bulk 1  0.037862     0.0          0.141354    0.286549               0.219244   \n",
       "\n",
       "        skeletal muscle satellite cell  \n",
       "Bulk 0                        0.432296  \n",
       "Bulk 1                        0.314990  "
      ]
     },
     "execution_count": 7,
     "metadata": {},
     "output_type": "execute_result"
    }
   ],
   "source": [
    "model.predict(cleaned_psis)"
   ]
  },
  {
   "cell_type": "code",
   "execution_count": 8,
   "metadata": {},
   "outputs": [
    {
     "data": {
      "text/plain": [
       "[[(0.005393642170028579, 0.05052624822543157),\n",
       "  (0.0, 0.02748279983220795),\n",
       "  (0.1470252357621908, 0.15288973006530482),\n",
       "  (0.23998256680471816, 0.24682376836458378),\n",
       "  (0.14294337788513825, 0.14982338049012348),\n",
       "  (0.3795769331450398, 0.4850151170874404)],\n",
       " [(0.010693553655333303, 0.06503136895604475),\n",
       "  (0.0, 0.025572689198689685),\n",
       "  (0.13678011026694972, 0.14592869197558264),\n",
       "  (0.28112306754526917, 0.2919758723850613),\n",
       "  (0.2151163198030781, 0.22337111538492777),\n",
       "  (0.2527288013617421, 0.3772510986660111)]]"
      ]
     },
     "execution_count": 8,
     "metadata": {},
     "output_type": "execute_result"
    }
   ],
   "source": [
    "# In this example, the intervals at a significance level of 0.05 indicate the estimate is poor.\n",
    "# We set sig=0.9999 for the sake of visualization.\n",
    "model.compute_marginal_confidence_intervals(sig=0.9999)"
   ]
  },
  {
   "cell_type": "code",
   "execution_count": 9,
   "metadata": {},
   "outputs": [
    {
     "data": {
      "text/html": [
       "\n",
       "<div id=\"altair-viz-4b67e04af46f43f3868c989c3be5b384\"></div>\n",
       "<script type=\"text/javascript\">\n",
       "  (function(spec, embedOpt){\n",
       "    let outputDiv = document.currentScript.previousElementSibling;\n",
       "    if (outputDiv.id !== \"altair-viz-4b67e04af46f43f3868c989c3be5b384\") {\n",
       "      outputDiv = document.getElementById(\"altair-viz-4b67e04af46f43f3868c989c3be5b384\");\n",
       "    }\n",
       "    const paths = {\n",
       "      \"vega\": \"https://cdn.jsdelivr.net/npm//vega@5?noext\",\n",
       "      \"vega-lib\": \"https://cdn.jsdelivr.net/npm//vega-lib?noext\",\n",
       "      \"vega-lite\": \"https://cdn.jsdelivr.net/npm//vega-lite@4.8.1?noext\",\n",
       "      \"vega-embed\": \"https://cdn.jsdelivr.net/npm//vega-embed@6?noext\",\n",
       "    };\n",
       "\n",
       "    function loadScript(lib) {\n",
       "      return new Promise(function(resolve, reject) {\n",
       "        var s = document.createElement('script');\n",
       "        s.src = paths[lib];\n",
       "        s.async = true;\n",
       "        s.onload = () => resolve(paths[lib]);\n",
       "        s.onerror = () => reject(`Error loading script: ${paths[lib]}`);\n",
       "        document.getElementsByTagName(\"head\")[0].appendChild(s);\n",
       "      });\n",
       "    }\n",
       "\n",
       "    function showError(err) {\n",
       "      outputDiv.innerHTML = `<div class=\"error\" style=\"color:red;\">${err}</div>`;\n",
       "      throw err;\n",
       "    }\n",
       "\n",
       "    function displayChart(vegaEmbed) {\n",
       "      vegaEmbed(outputDiv, spec, embedOpt)\n",
       "        .catch(err => showError(`Javascript Error: ${err.message}<br>This usually means there's a typo in your chart specification. See the javascript console for the full traceback.`));\n",
       "    }\n",
       "\n",
       "    if(typeof define === \"function\" && define.amd) {\n",
       "      requirejs.config({paths});\n",
       "      require([\"vega-embed\"], displayChart, err => showError(`Error loading script: ${err.message}`));\n",
       "    } else if (typeof vegaEmbed === \"function\") {\n",
       "      displayChart(vegaEmbed);\n",
       "    } else {\n",
       "      loadScript(\"vega\")\n",
       "        .then(() => loadScript(\"vega-lite\"))\n",
       "        .then(() => loadScript(\"vega-embed\"))\n",
       "        .catch(showError)\n",
       "        .then(() => displayChart(vegaEmbed));\n",
       "    }\n",
       "  })({\"config\": {\"view\": {\"continuousWidth\": 400, \"continuousHeight\": 300}}, \"data\": {\"name\": \"data-058c2e5cc57bd3c23c6ebf01fd5c353a\"}, \"facet\": {\"column\": {\"type\": \"nominal\", \"field\": \"index\", \"title\": \"Bulk\"}}, \"spec\": {\"layer\": [{\"mark\": \"bar\", \"encoding\": {\"color\": {\"type\": \"nominal\", \"field\": \"cell_type\"}, \"x\": {\"type\": \"nominal\", \"axis\": {\"labels\": false, \"title\": \"Cell Type\"}, \"field\": \"cell_type\"}, \"y\": {\"type\": \"quantitative\", \"axis\": {\"title\": \"Proportion\"}, \"field\": \"proportion\"}}}, {\"mark\": \"errorbar\", \"encoding\": {\"x\": {\"type\": \"nominal\", \"axis\": {\"labels\": false, \"title\": \"Cell Type\"}, \"field\": \"cell_type\"}, \"y\": {\"type\": \"quantitative\", \"field\": \"ci_low\"}, \"y2\": {\"field\": \"ci_high\"}}}]}, \"title\": \"Muscle Proportion Estimates\", \"$schema\": \"https://vega.github.io/schema/vega-lite/v4.8.1.json\", \"datasets\": {\"data-058c2e5cc57bd3c23c6ebf01fd5c353a\": [{\"index\": \"Bulk 0\", \"cell_type\": \"B cell\", \"proportion\": 0.027959945197730075, \"ci_err\": 0.022566303027701497, \"ci_low\": 0.005393642170028579, \"ci_high\": 0.05052624822543157}, {\"index\": \"Bulk 1\", \"cell_type\": \"B cell\", \"proportion\": 0.03786246130568902, \"ci_err\": 0.027168907650355723, \"ci_low\": 0.0106935536553333, \"ci_high\": 0.06503136895604475}, {\"index\": \"Bulk 0\", \"cell_type\": \"T cell\", \"proportion\": 0.0, \"ci_err\": 0.013741399916103975, \"ci_low\": 0.0, \"ci_high\": 0.013741399916103975}, {\"index\": \"Bulk 1\", \"cell_type\": \"T cell\", \"proportion\": 0.0, \"ci_err\": 0.012786344599344843, \"ci_low\": 0.0, \"ci_high\": 0.012786344599344843}, {\"index\": \"Bulk 0\", \"cell_type\": \"endothelial cell\", \"proportion\": 0.1499574829137478, \"ci_err\": 0.002932247151557016, \"ci_low\": 0.1470252357621908, \"ci_high\": 0.15288973006530482}, {\"index\": \"Bulk 1\", \"cell_type\": \"endothelial cell\", \"proportion\": 0.14135440112126618, \"ci_err\": 0.0045742908543164595, \"ci_low\": 0.13678011026694972, \"ci_high\": 0.14592869197558264}, {\"index\": \"Bulk 0\", \"cell_type\": \"macrophage\", \"proportion\": 0.24340316758465097, \"ci_err\": 0.0034206007799328086, \"ci_low\": 0.23998256680471816, \"ci_high\": 0.24682376836458378}, {\"index\": \"Bulk 1\", \"cell_type\": \"macrophage\", \"proportion\": 0.2865494699651652, \"ci_err\": 0.005426402419896059, \"ci_low\": 0.28112306754526917, \"ci_high\": 0.2919758723850613}, {\"index\": \"Bulk 0\", \"cell_type\": \"mesenchymal stem cell\", \"proportion\": 0.14638337918763086, \"ci_err\": 0.0034400013024926124, \"ci_low\": 0.14294337788513825, \"ci_high\": 0.14982338049012348}, {\"index\": \"Bulk 1\", \"cell_type\": \"mesenchymal stem cell\", \"proportion\": 0.21924371759400293, \"ci_err\": 0.0041273977909248305, \"ci_low\": 0.2151163198030781, \"ci_high\": 0.22337111538492777}, {\"index\": \"Bulk 0\", \"cell_type\": \"skeletal muscle satellite cell\", \"proportion\": 0.4322960251162401, \"ci_err\": 0.05271909197120028, \"ci_low\": 0.3795769331450398, \"ci_high\": 0.4850151170874404}, {\"index\": \"Bulk 1\", \"cell_type\": \"skeletal muscle satellite cell\", \"proportion\": 0.3149899500138766, \"ci_err\": 0.0622611486521345, \"ci_low\": 0.2527288013617421, \"ci_high\": 0.3772510986660111}]}}, {\"mode\": \"vega-lite\"});\n",
       "</script>"
      ],
      "text/plain": [
       "alt.FacetChart(...)"
      ]
     },
     "execution_count": 9,
     "metadata": {},
     "output_type": "execute_result"
    }
   ],
   "source": [
    "model.plot_proportions('bar').properties(title=\"Muscle Proportion Estimates\")"
   ]
  },
  {
   "cell_type": "code",
   "execution_count": 10,
   "metadata": {},
   "outputs": [
    {
     "data": {
      "text/html": [
       "\n",
       "<div id=\"altair-viz-8844b7088f484998ae2fc01a797571f2\"></div>\n",
       "<script type=\"text/javascript\">\n",
       "  (function(spec, embedOpt){\n",
       "    let outputDiv = document.currentScript.previousElementSibling;\n",
       "    if (outputDiv.id !== \"altair-viz-8844b7088f484998ae2fc01a797571f2\") {\n",
       "      outputDiv = document.getElementById(\"altair-viz-8844b7088f484998ae2fc01a797571f2\");\n",
       "    }\n",
       "    const paths = {\n",
       "      \"vega\": \"https://cdn.jsdelivr.net/npm//vega@5?noext\",\n",
       "      \"vega-lib\": \"https://cdn.jsdelivr.net/npm//vega-lib?noext\",\n",
       "      \"vega-lite\": \"https://cdn.jsdelivr.net/npm//vega-lite@4.8.1?noext\",\n",
       "      \"vega-embed\": \"https://cdn.jsdelivr.net/npm//vega-embed@6?noext\",\n",
       "    };\n",
       "\n",
       "    function loadScript(lib) {\n",
       "      return new Promise(function(resolve, reject) {\n",
       "        var s = document.createElement('script');\n",
       "        s.src = paths[lib];\n",
       "        s.async = true;\n",
       "        s.onload = () => resolve(paths[lib]);\n",
       "        s.onerror = () => reject(`Error loading script: ${paths[lib]}`);\n",
       "        document.getElementsByTagName(\"head\")[0].appendChild(s);\n",
       "      });\n",
       "    }\n",
       "\n",
       "    function showError(err) {\n",
       "      outputDiv.innerHTML = `<div class=\"error\" style=\"color:red;\">${err}</div>`;\n",
       "      throw err;\n",
       "    }\n",
       "\n",
       "    function displayChart(vegaEmbed) {\n",
       "      vegaEmbed(outputDiv, spec, embedOpt)\n",
       "        .catch(err => showError(`Javascript Error: ${err.message}<br>This usually means there's a typo in your chart specification. See the javascript console for the full traceback.`));\n",
       "    }\n",
       "\n",
       "    if(typeof define === \"function\" && define.amd) {\n",
       "      requirejs.config({paths});\n",
       "      require([\"vega-embed\"], displayChart, err => showError(`Error loading script: ${err.message}`));\n",
       "    } else if (typeof vegaEmbed === \"function\") {\n",
       "      displayChart(vegaEmbed);\n",
       "    } else {\n",
       "      loadScript(\"vega\")\n",
       "        .then(() => loadScript(\"vega-lite\"))\n",
       "        .then(() => loadScript(\"vega-embed\"))\n",
       "        .catch(showError)\n",
       "        .then(() => displayChart(vegaEmbed));\n",
       "    }\n",
       "  })({\"config\": {\"view\": {\"continuousWidth\": 400, \"continuousHeight\": 300}}, \"data\": {\"name\": \"data-058c2e5cc57bd3c23c6ebf01fd5c353a\"}, \"mark\": \"bar\", \"encoding\": {\"color\": {\"type\": \"nominal\", \"field\": \"cell_type\"}, \"x\": {\"type\": \"nominal\", \"axis\": {\"title\": \"Bulk\"}, \"field\": \"index\"}, \"y\": {\"type\": \"quantitative\", \"aggregate\": \"sum\", \"axis\": {\"title\": \"Proportion\"}, \"field\": \"proportion\", \"stack\": \"normalize\"}}, \"title\": \"Muscle Proportion Estimates\", \"$schema\": \"https://vega.github.io/schema/vega-lite/v4.8.1.json\", \"datasets\": {\"data-058c2e5cc57bd3c23c6ebf01fd5c353a\": [{\"index\": \"Bulk 0\", \"cell_type\": \"B cell\", \"proportion\": 0.027959945197730075, \"ci_err\": 0.022566303027701497, \"ci_low\": 0.005393642170028579, \"ci_high\": 0.05052624822543157}, {\"index\": \"Bulk 1\", \"cell_type\": \"B cell\", \"proportion\": 0.03786246130568902, \"ci_err\": 0.027168907650355723, \"ci_low\": 0.0106935536553333, \"ci_high\": 0.06503136895604475}, {\"index\": \"Bulk 0\", \"cell_type\": \"T cell\", \"proportion\": 0.0, \"ci_err\": 0.013741399916103975, \"ci_low\": 0.0, \"ci_high\": 0.013741399916103975}, {\"index\": \"Bulk 1\", \"cell_type\": \"T cell\", \"proportion\": 0.0, \"ci_err\": 0.012786344599344843, \"ci_low\": 0.0, \"ci_high\": 0.012786344599344843}, {\"index\": \"Bulk 0\", \"cell_type\": \"endothelial cell\", \"proportion\": 0.1499574829137478, \"ci_err\": 0.002932247151557016, \"ci_low\": 0.1470252357621908, \"ci_high\": 0.15288973006530482}, {\"index\": \"Bulk 1\", \"cell_type\": \"endothelial cell\", \"proportion\": 0.14135440112126618, \"ci_err\": 0.0045742908543164595, \"ci_low\": 0.13678011026694972, \"ci_high\": 0.14592869197558264}, {\"index\": \"Bulk 0\", \"cell_type\": \"macrophage\", \"proportion\": 0.24340316758465097, \"ci_err\": 0.0034206007799328086, \"ci_low\": 0.23998256680471816, \"ci_high\": 0.24682376836458378}, {\"index\": \"Bulk 1\", \"cell_type\": \"macrophage\", \"proportion\": 0.2865494699651652, \"ci_err\": 0.005426402419896059, \"ci_low\": 0.28112306754526917, \"ci_high\": 0.2919758723850613}, {\"index\": \"Bulk 0\", \"cell_type\": \"mesenchymal stem cell\", \"proportion\": 0.14638337918763086, \"ci_err\": 0.0034400013024926124, \"ci_low\": 0.14294337788513825, \"ci_high\": 0.14982338049012348}, {\"index\": \"Bulk 1\", \"cell_type\": \"mesenchymal stem cell\", \"proportion\": 0.21924371759400293, \"ci_err\": 0.0041273977909248305, \"ci_low\": 0.2151163198030781, \"ci_high\": 0.22337111538492777}, {\"index\": \"Bulk 0\", \"cell_type\": \"skeletal muscle satellite cell\", \"proportion\": 0.4322960251162401, \"ci_err\": 0.05271909197120028, \"ci_low\": 0.3795769331450398, \"ci_high\": 0.4850151170874404}, {\"index\": \"Bulk 1\", \"cell_type\": \"skeletal muscle satellite cell\", \"proportion\": 0.3149899500138766, \"ci_err\": 0.0622611486521345, \"ci_low\": 0.2527288013617421, \"ci_high\": 0.3772510986660111}]}}, {\"mode\": \"vega-lite\"});\n",
       "</script>"
      ],
      "text/plain": [
       "alt.Chart(...)"
      ]
     },
     "execution_count": 10,
     "metadata": {},
     "output_type": "execute_result"
    }
   ],
   "source": [
    "model.plot_proportions('stacked').properties(title=\"Muscle Proportion Estimates\")"
   ]
  }
 ],
 "metadata": {
  "kernelspec": {
   "display_name": "Python 3",
   "language": "python",
   "name": "python3"
  },
  "language_info": {
   "codemirror_mode": {
    "name": "ipython",
    "version": 3
   },
   "file_extension": ".py",
   "mimetype": "text/x-python",
   "name": "python",
   "nbconvert_exporter": "python",
   "pygments_lexer": "ipython3",
   "version": "3.9.4"
  }
 },
 "nbformat": 4,
 "nbformat_minor": 2
}

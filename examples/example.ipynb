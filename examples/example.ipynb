{
 "cells": [
  {
   "cell_type": "code",
   "execution_count": 1,
   "metadata": {},
   "outputs": [],
   "source": [
    "%load_ext autoreload\n",
    "%autoreload 2"
   ]
  },
  {
   "cell_type": "code",
   "execution_count": 2,
   "metadata": {},
   "outputs": [],
   "source": [
    "import sys\n",
    "sys.path.append('../')"
   ]
  },
  {
   "cell_type": "code",
   "execution_count": 3,
   "metadata": {},
   "outputs": [],
   "source": [
    "import numpy as np\n",
    "import pandas as pd\n",
    "import anndata\n",
    "from rnasieve.preprocessing import model_from_raw_counts"
   ]
  },
  {
   "cell_type": "code",
   "execution_count": 5,
   "metadata": {
    "collapsed": true
   },
   "outputs": [
    {
     "name": "stdout",
     "output_type": "stream",
     "text": [
      "Requirement already satisfied: gdown in /usr/local/lib/python3.9/site-packages (3.13.0)\n",
      "Requirement already satisfied: six in /usr/local/lib/python3.9/site-packages (from gdown) (1.15.0)\n",
      "Requirement already satisfied: requests[socks]>=2.12.0 in /usr/local/lib/python3.9/site-packages (from gdown) (2.25.1)\n",
      "Requirement already satisfied: filelock in /usr/local/lib/python3.9/site-packages (from gdown) (3.0.12)\n",
      "Requirement already satisfied: tqdm in /usr/local/lib/python3.9/site-packages (from gdown) (4.60.0)\n",
      "Requirement already satisfied: idna<3,>=2.5 in /usr/local/lib/python3.9/site-packages (from requests[socks]>=2.12.0->gdown) (2.10)\n",
      "Requirement already satisfied: certifi>=2017.4.17 in /usr/local/lib/python3.9/site-packages (from requests[socks]>=2.12.0->gdown) (2020.12.5)\n",
      "Requirement already satisfied: urllib3<1.27,>=1.21.1 in /usr/local/lib/python3.9/site-packages (from requests[socks]>=2.12.0->gdown) (1.26.4)\n",
      "Requirement already satisfied: chardet<5,>=3.0.2 in /usr/local/lib/python3.9/site-packages (from requests[socks]>=2.12.0->gdown) (4.0.0)\n",
      "Requirement already satisfied: PySocks!=1.5.7,>=1.5.6 in /usr/local/lib/python3.9/site-packages (from requests[socks]>=2.12.0->gdown) (1.7.1)\n",
      "\u001b[33mWARNING: You are using pip version 21.0.1; however, version 21.1.1 is available.\n",
      "You should consider upgrading via the '/usr/local/opt/python@3.9/bin/python3.9 -m pip install --upgrade pip' command.\u001b[0m\n"
     ]
    },
    {
     "name": "stderr",
     "output_type": "stream",
     "text": [
      "Downloading...\n",
      "From: https://drive.google.com/uc?id=1U3u-mbM7dnSSINqipq-fdjrMr8Fk__rr\n",
      "To: /Users/jjhong/Documents/berkeley/Song_Lab_research/rnasieve/example_data_test/muscle_subset_bulk.h5ad\n",
      "4.01MB [00:00, 12.1MB/s]\n",
      "Downloading...\n",
      "From: https://drive.google.com/uc?id=1wKQ_XWnK2tDJNS709u707uXlj2pqnvfX\n",
      "To: /Users/jjhong/Documents/berkeley/Song_Lab_research/rnasieve/example_data_test/muscle_subset.h5ad\n",
      "28.8MB [00:01, 21.7MB/s]\n"
     ]
    },
    {
     "data": {
      "text/plain": [
       "'../example_data_test/muscle_subset.h5ad'"
      ]
     },
     "execution_count": 5,
     "metadata": {},
     "output_type": "execute_result"
    }
   ],
   "source": [
    "# Download example data. See example_data.ipynb to see how it was preprocessed.\n",
    "!pip3 install gdown\n",
    "import gdown\n",
    "\n",
    "!mkdir ../example_data_test\n",
    "gdown.download('https://drive.google.com/uc?id=1U3u-mbM7dnSSINqipq-fdjrMr8Fk__rr', '../example_data/muscle_subset_bulk.h5ad')\n",
    "gdown.download('https://drive.google.com/uc?id=1wKQ_XWnK2tDJNS709u707uXlj2pqnvfX', '../example_data/muscle_subset.h5ad')"
   ]
  },
  {
   "cell_type": "code",
   "execution_count": 4,
   "metadata": {},
   "outputs": [
    {
     "name": "stderr",
     "output_type": "stream",
     "text": [
      "/usr/local/lib/python3.7/site-packages/anndata/core/anndata.py:846: FutureWarning: In anndata v0.7+, arrays contained within an AnnData object will maintain their dimensionality. For example, prior to v0.7 `adata[0, 0].X` returned a scalar and `adata[0, :]` returned a 1d array, post v0.7 they will return two dimensional arrays. If you would like to get a one dimensional array from your AnnData object, consider using the `adata.obs_vector`, `adata.var_vector` methods or accessing the array directly.\n",
      "  warn_flatten()\n"
     ]
    }
   ],
   "source": [
    "# Example raw count prep\n",
    "subset_bulk = anndata.read_h5ad('../example_data/muscle_subset_bulk.h5ad')\n",
    "subset = anndata.read_h5ad('../example_data/muscle_subset.h5ad')\n",
    "\n",
    "# Raw counts prep\n",
    "counts_by_onto_class = {}\n",
    "for sc in subset:\n",
    "    cell_onto_class = sc.obs['cell_ontology_class'][0]\n",
    "    if cell_onto_class not in counts_by_onto_class:\n",
    "        counts_by_onto_class[cell_onto_class] = np.empty((sc.X.shape[0], 0), dtype=np.float32)\n",
    "    counts_by_onto_class[cell_onto_class] = np.hstack((counts_by_onto_class[cell_onto_class], sc.X.reshape((-1, 1))))\n",
    "\n",
    "# Bulk prep\n",
    "G = subset_bulk.n_vars\n",
    "bulk_by_age = {}\n",
    "for bulk in subset_bulk:\n",
    "    age = bulk.obs['Age'][0]\n",
    "    if age not in bulk_by_age:\n",
    "        bulk_by_age[age] = []\n",
    "    bulk_by_age[age].append(bulk.X.reshape(-1, 1))\n",
    "\n",
    "bulk_labels = []\n",
    "psis = np.empty((G, 0), dtype=np.float32)\n",
    "for age in sorted(bulk_by_age.keys()):\n",
    "    bulks = bulk_by_age[age]\n",
    "    for i in range(len(bulks)):\n",
    "        bulk_labels.append(\"{} months, subject {}\".format(age, i))\n",
    "        psis = np.hstack((psis, bulks[i]))"
   ]
  },
  {
   "cell_type": "code",
   "execution_count": 5,
   "metadata": {},
   "outputs": [],
   "source": [
    "model, cleaned_psis = model_from_raw_counts(counts_by_onto_class, psis[:, :2])"
   ]
  },
  {
   "cell_type": "code",
   "execution_count": 6,
   "metadata": {},
   "outputs": [
    {
     "data": {
      "text/html": [
       "<div>\n",
       "<style scoped>\n",
       "    .dataframe tbody tr th:only-of-type {\n",
       "        vertical-align: middle;\n",
       "    }\n",
       "\n",
       "    .dataframe tbody tr th {\n",
       "        vertical-align: top;\n",
       "    }\n",
       "\n",
       "    .dataframe thead th {\n",
       "        text-align: right;\n",
       "    }\n",
       "</style>\n",
       "<table border=\"1\" class=\"dataframe\">\n",
       "  <thead>\n",
       "    <tr style=\"text-align: right;\">\n",
       "      <th></th>\n",
       "      <th>B cell</th>\n",
       "      <th>T cell</th>\n",
       "      <th>endothelial cell</th>\n",
       "      <th>macrophage</th>\n",
       "      <th>mesenchymal stem cell</th>\n",
       "      <th>skeletal muscle satellite cell</th>\n",
       "    </tr>\n",
       "  </thead>\n",
       "  <tbody>\n",
       "    <tr>\n",
       "      <td>Bulk 0</td>\n",
       "      <td>0.027959</td>\n",
       "      <td>0.0</td>\n",
       "      <td>0.149952</td>\n",
       "      <td>0.243414</td>\n",
       "      <td>0.146380</td>\n",
       "      <td>0.432295</td>\n",
       "    </tr>\n",
       "    <tr>\n",
       "      <td>Bulk 1</td>\n",
       "      <td>0.037862</td>\n",
       "      <td>0.0</td>\n",
       "      <td>0.141348</td>\n",
       "      <td>0.286565</td>\n",
       "      <td>0.219226</td>\n",
       "      <td>0.314999</td>\n",
       "    </tr>\n",
       "  </tbody>\n",
       "</table>\n",
       "</div>"
      ],
      "text/plain": [
       "          B cell  T cell  endothelial cell  macrophage  mesenchymal stem cell  \\\n",
       "Bulk 0  0.027959     0.0          0.149952    0.243414               0.146380   \n",
       "Bulk 1  0.037862     0.0          0.141348    0.286565               0.219226   \n",
       "\n",
       "        skeletal muscle satellite cell  \n",
       "Bulk 0                        0.432295  \n",
       "Bulk 1                        0.314999  "
      ]
     },
     "execution_count": 6,
     "metadata": {},
     "output_type": "execute_result"
    }
   ],
   "source": [
    "model.predict(cleaned_psis)"
   ]
  },
  {
   "cell_type": "code",
   "execution_count": 14,
   "metadata": {},
   "outputs": [
    {
     "data": {
      "text/plain": [
       "[[(-0.03363138009238814, 0.08954988874594808),\n",
       "  (-0.0008901472977363052, 0.0008901472977363052),\n",
       "  (0.010177923324470733, 0.2897258034674737),\n",
       "  (0.04372689923699902, 0.44310074009092637),\n",
       "  (-0.027470331177995383, 0.3202312503617941),\n",
       "  (0.23434973175615395, 0.6302394742866176)],\n",
       " [(-0.017539613728021416, 0.09326310964468985),\n",
       "  (-1.3783866126004802e-06, 1.3783866126004802e-06),\n",
       "  (0.011459513825478718, 0.2712354931566428),\n",
       "  (0.126884452096752, 0.4462454385936314),\n",
       "  (-0.032230728414468834, 0.4706834114671079),\n",
       "  (0.1511813517638615, 0.47881757159432625)]]"
      ]
     },
     "execution_count": 14,
     "metadata": {},
     "output_type": "execute_result"
    }
   ],
   "source": [
    "model.compute_marginal_confidence_intervals(sig=0.05)"
   ]
  },
  {
   "cell_type": "code",
   "execution_count": 15,
   "metadata": {},
   "outputs": [
    {
     "data": {
      "text/html": [
       "\n",
       "<div id=\"altair-viz-bc3c39f712c9419abc52b5f39fd69e70\"></div>\n",
       "<script type=\"text/javascript\">\n",
       "  (function(spec, embedOpt){\n",
       "    let outputDiv = document.currentScript.previousElementSibling;\n",
       "    if (outputDiv.id !== \"altair-viz-bc3c39f712c9419abc52b5f39fd69e70\") {\n",
       "      outputDiv = document.getElementById(\"altair-viz-bc3c39f712c9419abc52b5f39fd69e70\");\n",
       "    }\n",
       "    const paths = {\n",
       "      \"vega\": \"https://cdn.jsdelivr.net/npm//vega@5?noext\",\n",
       "      \"vega-lib\": \"https://cdn.jsdelivr.net/npm//vega-lib?noext\",\n",
       "      \"vega-lite\": \"https://cdn.jsdelivr.net/npm//vega-lite@4.8.1?noext\",\n",
       "      \"vega-embed\": \"https://cdn.jsdelivr.net/npm//vega-embed@6?noext\",\n",
       "    };\n",
       "\n",
       "    function loadScript(lib) {\n",
       "      return new Promise(function(resolve, reject) {\n",
       "        var s = document.createElement('script');\n",
       "        s.src = paths[lib];\n",
       "        s.async = true;\n",
       "        s.onload = () => resolve(paths[lib]);\n",
       "        s.onerror = () => reject(`Error loading script: ${paths[lib]}`);\n",
       "        document.getElementsByTagName(\"head\")[0].appendChild(s);\n",
       "      });\n",
       "    }\n",
       "\n",
       "    function showError(err) {\n",
       "      outputDiv.innerHTML = `<div class=\"error\" style=\"color:red;\">${err}</div>`;\n",
       "      throw err;\n",
       "    }\n",
       "\n",
       "    function displayChart(vegaEmbed) {\n",
       "      vegaEmbed(outputDiv, spec, embedOpt)\n",
       "        .catch(err => showError(`Javascript Error: ${err.message}<br>This usually means there's a typo in your chart specification. See the javascript console for the full traceback.`));\n",
       "    }\n",
       "\n",
       "    if(typeof define === \"function\" && define.amd) {\n",
       "      requirejs.config({paths});\n",
       "      require([\"vega-embed\"], displayChart, err => showError(`Error loading script: ${err.message}`));\n",
       "    } else if (typeof vegaEmbed === \"function\") {\n",
       "      displayChart(vegaEmbed);\n",
       "    } else {\n",
       "      loadScript(\"vega\")\n",
       "        .then(() => loadScript(\"vega-lite\"))\n",
       "        .then(() => loadScript(\"vega-embed\"))\n",
       "        .catch(showError)\n",
       "        .then(() => displayChart(vegaEmbed));\n",
       "    }\n",
       "  })({\"config\": {\"view\": {\"continuousWidth\": 400, \"continuousHeight\": 300}}, \"data\": {\"name\": \"data-c4b66812167246e65563df8bf7f7c94c\"}, \"facet\": {\"column\": {\"type\": \"nominal\", \"field\": \"index\", \"title\": \"Bulk\"}}, \"spec\": {\"layer\": [{\"mark\": \"bar\", \"encoding\": {\"color\": {\"type\": \"nominal\", \"field\": \"cell_type\"}, \"x\": {\"type\": \"nominal\", \"axis\": {\"labels\": false, \"title\": \"Cell Type\"}, \"field\": \"cell_type\"}, \"y\": {\"type\": \"quantitative\", \"axis\": {\"title\": \"Proportion\"}, \"field\": \"proportion\"}}}, {\"mark\": \"errorbar\", \"encoding\": {\"x\": {\"type\": \"nominal\", \"axis\": {\"labels\": false, \"title\": \"Cell Type\"}, \"field\": \"cell_type\"}, \"y\": {\"type\": \"quantitative\", \"field\": \"ci_low\"}, \"y2\": {\"field\": \"ci_high\"}}}]}, \"title\": \"Muscle Proportion Estimates\", \"$schema\": \"https://vega.github.io/schema/vega-lite/v4.8.1.json\", \"datasets\": {\"data-c4b66812167246e65563df8bf7f7c94c\": [{\"index\": \"Bulk 0\", \"cell_type\": \"B cell\", \"proportion\": 0.027959254326779964, \"ci_err\": 0.06159063441916811, \"ci_low\": 0.0, \"ci_high\": 0.08954988874594808}, {\"index\": \"Bulk 1\", \"cell_type\": \"B cell\", \"proportion\": 0.03786174795833422, \"ci_err\": 0.055401361686355635, \"ci_low\": 0.0, \"ci_high\": 0.09326310964468985}, {\"index\": \"Bulk 0\", \"cell_type\": \"T cell\", \"proportion\": 0.0, \"ci_err\": 0.0008901472977363052, \"ci_low\": 0.0, \"ci_high\": 0.0008901472977363052}, {\"index\": \"Bulk 1\", \"cell_type\": \"T cell\", \"proportion\": 0.0, \"ci_err\": 1.3783866126004802e-06, \"ci_low\": 0.0, \"ci_high\": 1.3783866126004802e-06}, {\"index\": \"Bulk 0\", \"cell_type\": \"endothelial cell\", \"proportion\": 0.1499518633959722, \"ci_err\": 0.13977394007150146, \"ci_low\": 0.010177923324470733, \"ci_high\": 0.2897258034674737}, {\"index\": \"Bulk 1\", \"cell_type\": \"endothelial cell\", \"proportion\": 0.14134750349106076, \"ci_err\": 0.12988798966558204, \"ci_low\": 0.011459513825478718, \"ci_high\": 0.2712354931566428}, {\"index\": \"Bulk 0\", \"cell_type\": \"macrophage\", \"proportion\": 0.2434138196639627, \"ci_err\": 0.19968692042696368, \"ci_low\": 0.04372689923699902, \"ci_high\": 0.44310074009092637}, {\"index\": \"Bulk 1\", \"cell_type\": \"macrophage\", \"proportion\": 0.2865649453451917, \"ci_err\": 0.1596804932484397, \"ci_low\": 0.12688445209675203, \"ci_high\": 0.4462454385936314}, {\"index\": \"Bulk 0\", \"cell_type\": \"mesenchymal stem cell\", \"proportion\": 0.14638045959189935, \"ci_err\": 0.17385079076989474, \"ci_low\": 0.0, \"ci_high\": 0.3202312503617941}, {\"index\": \"Bulk 1\", \"cell_type\": \"mesenchymal stem cell\", \"proportion\": 0.21922634152631953, \"ci_err\": 0.25145706994078837, \"ci_low\": 0.0, \"ci_high\": 0.4706834114671079}, {\"index\": \"Bulk 0\", \"cell_type\": \"skeletal muscle satellite cell\", \"proportion\": 0.4322946030213858, \"ci_err\": 0.19794487126523186, \"ci_low\": 0.23434973175615392, \"ci_high\": 0.6302394742866176}, {\"index\": \"Bulk 1\", \"cell_type\": \"skeletal muscle satellite cell\", \"proportion\": 0.3149994616790939, \"ci_err\": 0.16381810991523238, \"ci_low\": 0.1511813517638615, \"ci_high\": 0.47881757159432625}]}}, {\"mode\": \"vega-lite\"});\n",
       "</script>"
      ],
      "text/plain": [
       "alt.FacetChart(...)"
      ]
     },
     "execution_count": 15,
     "metadata": {},
     "output_type": "execute_result"
    }
   ],
   "source": [
    "model.plot_proportions('bar').properties(title=\"Muscle Proportion Estimates\")"
   ]
  },
  {
   "cell_type": "code",
   "execution_count": 16,
   "metadata": {},
   "outputs": [
    {
     "data": {
      "text/html": [
       "\n",
       "<div id=\"altair-viz-2b846af145ab49d6b64b63bfff961804\"></div>\n",
       "<script type=\"text/javascript\">\n",
       "  (function(spec, embedOpt){\n",
       "    let outputDiv = document.currentScript.previousElementSibling;\n",
       "    if (outputDiv.id !== \"altair-viz-2b846af145ab49d6b64b63bfff961804\") {\n",
       "      outputDiv = document.getElementById(\"altair-viz-2b846af145ab49d6b64b63bfff961804\");\n",
       "    }\n",
       "    const paths = {\n",
       "      \"vega\": \"https://cdn.jsdelivr.net/npm//vega@5?noext\",\n",
       "      \"vega-lib\": \"https://cdn.jsdelivr.net/npm//vega-lib?noext\",\n",
       "      \"vega-lite\": \"https://cdn.jsdelivr.net/npm//vega-lite@4.8.1?noext\",\n",
       "      \"vega-embed\": \"https://cdn.jsdelivr.net/npm//vega-embed@6?noext\",\n",
       "    };\n",
       "\n",
       "    function loadScript(lib) {\n",
       "      return new Promise(function(resolve, reject) {\n",
       "        var s = document.createElement('script');\n",
       "        s.src = paths[lib];\n",
       "        s.async = true;\n",
       "        s.onload = () => resolve(paths[lib]);\n",
       "        s.onerror = () => reject(`Error loading script: ${paths[lib]}`);\n",
       "        document.getElementsByTagName(\"head\")[0].appendChild(s);\n",
       "      });\n",
       "    }\n",
       "\n",
       "    function showError(err) {\n",
       "      outputDiv.innerHTML = `<div class=\"error\" style=\"color:red;\">${err}</div>`;\n",
       "      throw err;\n",
       "    }\n",
       "\n",
       "    function displayChart(vegaEmbed) {\n",
       "      vegaEmbed(outputDiv, spec, embedOpt)\n",
       "        .catch(err => showError(`Javascript Error: ${err.message}<br>This usually means there's a typo in your chart specification. See the javascript console for the full traceback.`));\n",
       "    }\n",
       "\n",
       "    if(typeof define === \"function\" && define.amd) {\n",
       "      requirejs.config({paths});\n",
       "      require([\"vega-embed\"], displayChart, err => showError(`Error loading script: ${err.message}`));\n",
       "    } else if (typeof vegaEmbed === \"function\") {\n",
       "      displayChart(vegaEmbed);\n",
       "    } else {\n",
       "      loadScript(\"vega\")\n",
       "        .then(() => loadScript(\"vega-lite\"))\n",
       "        .then(() => loadScript(\"vega-embed\"))\n",
       "        .catch(showError)\n",
       "        .then(() => displayChart(vegaEmbed));\n",
       "    }\n",
       "  })({\"config\": {\"view\": {\"continuousWidth\": 400, \"continuousHeight\": 300}}, \"data\": {\"name\": \"data-c4b66812167246e65563df8bf7f7c94c\"}, \"mark\": \"bar\", \"encoding\": {\"color\": {\"type\": \"nominal\", \"field\": \"cell_type\"}, \"x\": {\"type\": \"nominal\", \"axis\": {\"title\": \"Bulk\"}, \"field\": \"index\"}, \"y\": {\"type\": \"quantitative\", \"aggregate\": \"sum\", \"axis\": {\"title\": \"Proportion\"}, \"field\": \"proportion\", \"stack\": \"normalize\"}}, \"title\": \"Muscle Proportion Estimates\", \"$schema\": \"https://vega.github.io/schema/vega-lite/v4.8.1.json\", \"datasets\": {\"data-c4b66812167246e65563df8bf7f7c94c\": [{\"index\": \"Bulk 0\", \"cell_type\": \"B cell\", \"proportion\": 0.027959254326779964, \"ci_err\": 0.06159063441916811, \"ci_low\": 0.0, \"ci_high\": 0.08954988874594808}, {\"index\": \"Bulk 1\", \"cell_type\": \"B cell\", \"proportion\": 0.03786174795833422, \"ci_err\": 0.055401361686355635, \"ci_low\": 0.0, \"ci_high\": 0.09326310964468985}, {\"index\": \"Bulk 0\", \"cell_type\": \"T cell\", \"proportion\": 0.0, \"ci_err\": 0.0008901472977363052, \"ci_low\": 0.0, \"ci_high\": 0.0008901472977363052}, {\"index\": \"Bulk 1\", \"cell_type\": \"T cell\", \"proportion\": 0.0, \"ci_err\": 1.3783866126004802e-06, \"ci_low\": 0.0, \"ci_high\": 1.3783866126004802e-06}, {\"index\": \"Bulk 0\", \"cell_type\": \"endothelial cell\", \"proportion\": 0.1499518633959722, \"ci_err\": 0.13977394007150146, \"ci_low\": 0.010177923324470733, \"ci_high\": 0.2897258034674737}, {\"index\": \"Bulk 1\", \"cell_type\": \"endothelial cell\", \"proportion\": 0.14134750349106076, \"ci_err\": 0.12988798966558204, \"ci_low\": 0.011459513825478718, \"ci_high\": 0.2712354931566428}, {\"index\": \"Bulk 0\", \"cell_type\": \"macrophage\", \"proportion\": 0.2434138196639627, \"ci_err\": 0.19968692042696368, \"ci_low\": 0.04372689923699902, \"ci_high\": 0.44310074009092637}, {\"index\": \"Bulk 1\", \"cell_type\": \"macrophage\", \"proportion\": 0.2865649453451917, \"ci_err\": 0.1596804932484397, \"ci_low\": 0.12688445209675203, \"ci_high\": 0.4462454385936314}, {\"index\": \"Bulk 0\", \"cell_type\": \"mesenchymal stem cell\", \"proportion\": 0.14638045959189935, \"ci_err\": 0.17385079076989474, \"ci_low\": 0.0, \"ci_high\": 0.3202312503617941}, {\"index\": \"Bulk 1\", \"cell_type\": \"mesenchymal stem cell\", \"proportion\": 0.21922634152631953, \"ci_err\": 0.25145706994078837, \"ci_low\": 0.0, \"ci_high\": 0.4706834114671079}, {\"index\": \"Bulk 0\", \"cell_type\": \"skeletal muscle satellite cell\", \"proportion\": 0.4322946030213858, \"ci_err\": 0.19794487126523186, \"ci_low\": 0.23434973175615392, \"ci_high\": 0.6302394742866176}, {\"index\": \"Bulk 1\", \"cell_type\": \"skeletal muscle satellite cell\", \"proportion\": 0.3149994616790939, \"ci_err\": 0.16381810991523238, \"ci_low\": 0.1511813517638615, \"ci_high\": 0.47881757159432625}]}}, {\"mode\": \"vega-lite\"});\n",
       "</script>"
      ],
      "text/plain": [
       "alt.Chart(...)"
      ]
     },
     "execution_count": 16,
     "metadata": {},
     "output_type": "execute_result"
    }
   ],
   "source": [
    "model.plot_proportions('stacked').properties(title=\"Muscle Proportion Estimates\")"
   ]
  },
  {
   "cell_type": "code",
   "execution_count": null,
   "metadata": {},
   "outputs": [],
   "source": []
  }
 ],
 "metadata": {
  "kernelspec": {
   "display_name": "Python 3",
   "language": "python",
   "name": "python3"
  },
  "language_info": {
   "codemirror_mode": {
    "name": "ipython",
    "version": 3
   },
   "file_extension": ".py",
   "mimetype": "text/x-python",
   "name": "python",
   "nbconvert_exporter": "python",
   "pygments_lexer": "ipython3",
   "version": "3.9.1"
  }
 },
 "nbformat": 4,
 "nbformat_minor": 2
}
